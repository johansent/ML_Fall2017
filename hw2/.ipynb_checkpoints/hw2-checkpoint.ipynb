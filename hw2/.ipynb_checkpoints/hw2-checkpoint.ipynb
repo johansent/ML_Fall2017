{
 "cells": [
  {
   "cell_type": "markdown",
   "metadata": {},
   "source": [
    "# Homework 2 - Random Forests\n",
    "### Kyle Shaw\n",
    "### Thomas Johansen"
   ]
  },
  {
   "cell_type": "markdown",
   "metadata": {},
   "source": [
    "This file includes analysis using decision trees for five machine learning datasets. The tree depths producing the most accurate classification for each dataset are summarized in a table near the bottom. \n",
    "\n",
    "Link to our working directory for this course: https://github.com/johansent/ML_Fall2017"
   ]
  },
  {
   "cell_type": "code",
   "execution_count": 1,
   "metadata": {
    "collapsed": false
   },
   "outputs": [],
   "source": [
    "### Import a machine learning dataset\n",
    "import pandas\n",
    "\n",
    "def import_data(path, train1, test1, train2, test2, head = 0):\n",
    "    filepath = 'C:/Users/joh10/Desktop/FSU/FA17/5635/git/Data/' + path + '/'\n",
    "       \n",
    "    train_data = pandas.read_table(filepath + train1, sep = ' ', header = head)\n",
    "    train2_data = pandas.read_table(filepath + train2, sep = ' ', header = head)\n",
    "        \n",
    "    test_data = pandas.read_table(filepath + test1, sep = ' ', header = head)\n",
    "    test2_data = pandas.read_table(filepath + test2, sep = ' ', header = head)\n",
    "\n",
    "    return train_data, train2_data, test_data, test2_data"
   ]
  },
  {
   "cell_type": "code",
   "execution_count": 2,
   "metadata": {
    "collapsed": false
   },
   "outputs": [],
   "source": [
    "### train decision trees of depth 1 through 12, computing the classification error at each step for both training and testing sets.\n",
    "#from import_data import import_data\n",
    "from sklearn.ensemble import RandomForestClassifier\n",
    "import matplotlib.pyplot as plt\n",
    "import sklearn\n",
    "import numpy as np\n",
    "\n",
    "def grow_forest(title, legend_loc = 1):    \n",
    "    %matplotlib inline  \n",
    "\n",
    "    errorsTrain = []\n",
    "    errorsTest = []\n",
    "    K = [3, 10, 30, 100, 300]\n",
    "\n",
    "    for k in K:\n",
    "        clf = RandomForestClassifier(n_estimators = k)\n",
    "        clf = clf.fit(X, np.ravel(Y))\n",
    "\n",
    "        error = 1 - clf.score(X, Y)\n",
    "        errorsTrain.append(error)\n",
    "\n",
    "        error = 1-clf.score(Xtest, Ytest)\n",
    "        errorsTest.append(error)\n",
    "\n",
    "    plt.plot(K, errorsTrain, label = 'Training Error')\n",
    "    plt.plot(K, errorsTest, label = 'Test Error')\n",
    "    plt.xlabel('Tree Depth')\n",
    "    plt.ylabel('Classification Error')\n",
    "    plt.title(title)\n",
    "    plt.legend(loc = legend_loc)\n",
    "    plt.show()\n",
    "    \n",
    "    #print('min is', min(errorsTest), 'at d =', np.argmin(errorsTest) + 1)\n",
    "    \n",
    "    return errorsTest\n",
    "    "
   ]
  },
  {
   "cell_type": "markdown",
   "metadata": {},
   "source": [
    "### Madelon data"
   ]
  },
  {
   "cell_type": "code",
   "execution_count": 3,
   "metadata": {
    "collapsed": false
   },
   "outputs": [],
   "source": [
    "min_table = {}\n",
    "\n",
    "X, Y, Xtest, Ytest = import_data('madelon', 'madelon_train.data', 'madelon_valid.data','madelon_train.labels', 'madelon_valid.labels', head = None)\n",
    "X.drop(X.columns[len(X.columns)-1], axis=1, inplace=True)\n",
    "Xtest.drop(Xtest.columns[len(Xtest.columns)-1], axis=1, inplace=True) #see ref [5]"
   ]
  },
  {
   "cell_type": "code",
   "execution_count": 4,
   "metadata": {
    "collapsed": false,
    "scrolled": false
   },
   "outputs": [
    {
     "data": {
      "image/png": "[encoded data removed]",
      "text/plain": [
       "<matplotlib.figure.Figure at 0x1749699c828>"
      ]
     },
     "metadata": {},
     "output_type": "display_data"
    }
   ],
   "source": [
    "errorsTest = grow_forest('Madelon')\n",
    "min_table['Madelon     '] = [min(errorsTest), np.argmin(errorsTest) + 1]"
   ]
  },
  {
   "cell_type": "markdown",
   "metadata": {},
   "source": [
    "### Arcene data"
   ]
  },
  {
   "cell_type": "code",
   "execution_count": 5,
   "metadata": {
    "collapsed": true
   },
   "outputs": [],
   "source": [
    "X, Y, Xtest, Ytest = import_data('arcene', 'arcene_train.data', 'arcene_valid.data','arcene_train.labels', 'arcene_valid.labels', head = None)\n",
    "X.drop(X.columns[len(X.columns)-1], axis=1, inplace=True)\n",
    "Xtest.drop(Xtest.columns[len(Xtest.columns)-1], axis=1, inplace=True)"
   ]
  },
  {
   "cell_type": "code",
   "execution_count": 6,
   "metadata": {
    "collapsed": false
   },
   "outputs": [
    {
     "data": {
      "image/png": "[encoded data removed]",
      "text/plain": [
       "<matplotlib.figure.Figure at 0x1749921a438>"
      ]
     },
     "metadata": {},
     "output_type": "display_data"
    }
   ],
   "source": [
    "errorsTest = grow_forest('Arcene', legend_loc = 4)\n",
    "min_table['Arcene      '] = [min(errorsTest), np.argmin(errorsTest) + 1]"
   ]
  },
  {
   "cell_type": "markdown",
   "metadata": {},
   "source": [
    "### Hill/Valley data"
   ]
  },
  {
   "cell_type": "code",
   "execution_count": 7,
   "metadata": {
    "collapsed": false
   },
   "outputs": [],
   "source": [
    "X, Y, Xtest, Ytest = import_data('hill_valley', 'X.dat', 'Xtest.dat','Y.dat', 'Ytest.dat', head = None)"
   ]
  },
  {
   "cell_type": "code",
   "execution_count": 8,
   "metadata": {
    "collapsed": false
   },
   "outputs": [
    {
     "data": {
      "image/png": "[encoded data removed]",
      "text/plain": [
       "<matplotlib.figure.Figure at 0x1749699c940>"
      ]
     },
     "metadata": {},
     "output_type": "display_data"
    }
   ],
   "source": [
    "errorsTest = grow_forest('Hill/Valley', legend_loc = 4)\n",
    "min_table['Hill/Valley '] = [min(errorsTest), np.argmin(errorsTest) + 1]"
   ]
  },
  {
   "cell_type": "markdown",
   "metadata": {},
   "source": [
    "### Poker data"
   ]
  },
  {
   "cell_type": "code",
   "execution_count": 9,
   "metadata": {
    "collapsed": true
   },
   "outputs": [],
   "source": [
    "#X, Y, Xtest, Ytest = import_data('poker', 'X.dat', 'Xtest.dat','Y.dat', 'Ytest.dat', head = None)"
   ]
  },
  {
   "cell_type": "code",
   "execution_count": 10,
   "metadata": {
    "collapsed": false
   },
   "outputs": [],
   "source": [
    "#errorsTest = grow_forest('Poker')\n",
    "#min_table['Poker       '] = [min(errorsTest), np.argmin(errorsTest) + 1]"
   ]
  },
  {
   "cell_type": "markdown",
   "metadata": {},
   "source": [
    "### Satimage"
   ]
  },
  {
   "cell_type": "code",
   "execution_count": 11,
   "metadata": {
    "collapsed": true
   },
   "outputs": [],
   "source": [
    "X, Y, Xtest, Ytest = import_data('satimage', 'X.dat', 'Xtest.dat','Y.dat', 'Ytest.dat', head = None)"
   ]
  },
  {
   "cell_type": "code",
   "execution_count": 12,
   "metadata": {
    "collapsed": false
   },
   "outputs": [
    {
     "data": {
      "image/png": "[encoded data removed]",
      "text/plain": [
       "<matplotlib.figure.Figure at 0x1749bb617f0>"
      ]
     },
     "metadata": {},
     "output_type": "display_data"
    }
   ],
   "source": [
    "errorsTest = grow_forest('Satimage')\n",
    "min_table['Satimage    '] = [min(errorsTest), np.argmin(errorsTest) + 1]"
   ]
  },
  {
   "cell_type": "code",
   "execution_count": 14,
   "metadata": {
    "collapsed": false
   },
   "outputs": [
    {
     "data": {
      "text/plain": [
       "3"
      ]
     },
     "execution_count": 14,
     "metadata": {},
     "output_type": "execute_result"
    }
   ],
   "source": [
    "np.argmin(errorsTest)"
   ]
  },
  {
   "cell_type": "markdown",
   "metadata": {},
   "source": [
    "## Summary of Results"
   ]
  },
  {
   "cell_type": "code",
   "execution_count": 19,
   "metadata": {
    "collapsed": false
   },
   "outputs": [
    {
     "name": "stdout",
     "output_type": "stream",
     "text": [
      "Data name    Minimum Value   Number of Trees\n",
      "--------------------------------------------\n",
      "Satimage          0.087500               100\n",
      "Arcene            0.220000               100\n",
      "Madelon           0.273333               100\n",
      "Hill/Valley       0.437294                 3\n"
     ]
    }
   ],
   "source": [
    "K = [3, 10, 30, 100, 300]\n",
    "\n",
    "print('{0:12s} {1:15s} {2:12s}'.format('Data name', 'Minimum Value', 'Number of Trees'))\n",
    "print('--------------------------------------------')\n",
    "for k in min_table.keys():\n",
    "    print('{0:12s} {1:13f} {2:17d}'.format(k, min_table[k][0], K[min_table[k][1]-1]))\n"
   ]
  },
  {
   "cell_type": "markdown",
   "metadata": {},
   "source": [
    "## Bibliography\n",
    "\n",
    "1. Stéfan van der Walt, S. Chris Colbert and Gaël Varoquaux. The NumPy Array: A Structure for Efficient Numerical Computation, Computing in Science & Engineering, 13, 22-30 (2011), DOI:10.1109/MCSE.2011.37\n",
    "2. John D. Hunter. Matplotlib: A 2D Graphics Environment, Computing in Science & Engineering, 9, 90-95 (2007), DOI:10.1109/MCSE.2007.55\n",
    "3. Wes McKinney. Data Structures for Statistical Computing in Python, Proceedings of the 9th Python in Science Conference, 51-56 (2010) \n",
    "4. Fabian Pedregosa, Gaël Varoquaux, Alexandre Gramfort, Vincent Michel, Bertrand Thirion, Olivier Grisel, Mathieu Blondel, Peter Prettenhofer, Ron Weiss, Vincent Dubourg, Jake Vanderplas, Alexandre Passos, David Cournapeau, Matthieu Brucher, Matthieu Perrot, Édouard Duchesnay. Scikit-learn: Machine Learning in Python, Journal of Machine Learning Research, 12, 2825-2830 (2011)\n",
    "5. conner.xyz at https://stackoverflow.com/questions/20517650/how-to-delete-the-last-column-of-data-of-a-pandas-dataframe"
   ]
  }
 ],
 "metadata": {
  "kernelspec": {
   "display_name": "Python [Root]",
   "language": "python",
   "name": "Python [Root]"
  },
  "language_info": {
   "codemirror_mode": {
    "name": "ipython",
    "version": 3
   },
   "file_extension": ".py",
   "mimetype": "text/x-python",
   "name": "python",
   "nbconvert_exporter": "python",
   "pygments_lexer": "ipython3",
   "version": "3.5.2"
  }
 },
 "nbformat": 4,
 "nbformat_minor": 0
}
